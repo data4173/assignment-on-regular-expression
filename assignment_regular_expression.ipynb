{
 "cells": [
  {
   "cell_type": "code",
   "execution_count": 1,
   "id": "11121b07",
   "metadata": {},
   "outputs": [
    {
     "name": "stdout",
     "output_type": "stream",
     "text": [
      "Python:Exercises::PHP:exercises:\n"
     ]
    }
   ],
   "source": [
    "#question 1\n",
    "\n",
    "import re\n",
    "text = 'Python Exercises, PHP exercises.'\n",
    "print(re.sub(\"[ ,.]\", \":\", text))"
   ]
  },
  {
   "cell_type": "code",
   "execution_count": 3,
   "id": "c8aed92d",
   "metadata": {},
   "outputs": [
    {
     "name": "stdout",
     "output_type": "stream",
     "text": [
      "         SUMMARY\n",
      "0    hello world\n",
      "1     XXXXX test\n",
      "2  four five six\n"
     ]
    }
   ],
   "source": [
    "#question 2\n",
    "\n",
    "import pandas as pd\n",
    "data = {'SUMMARY': ['hello, world!', 'XXXXX test', '123four, five:; six...']}\n",
    "df = pd.DataFrame(data)\n",
    "df['SUMMARY'] = df['SUMMARY'].str.replace('[^a-zA-Z\\s]', '', regex=True)\n",
    "print(df)"
   ]
  },
  {
   "cell_type": "code",
   "execution_count": 5,
   "id": "9d0bd8a1",
   "metadata": {},
   "outputs": [
    {
     "name": "stdout",
     "output_type": "stream",
     "text": [
      "['favourite', 'players', 'pant', 'rahul', 'yash', 'mahi']\n"
     ]
    }
   ],
   "source": [
    "#question 3\n",
    "import re\n",
    "text = 'my favourite players are pant,rahul,yash,mahi.'\n",
    "print(re.findall(r\"\\b\\w{4,}\\b\", text))\n",
    "\n",
    "\n"
   ]
  },
  {
   "cell_type": "code",
   "execution_count": 6,
   "id": "8f8796a5",
   "metadata": {},
   "outputs": [
    {
     "name": "stdout",
     "output_type": "stream",
     "text": [
      "['are', 'pant', 'rahul', 'yash', 'mahi']\n"
     ]
    }
   ],
   "source": [
    "#question 4\n",
    "import re\n",
    "text = 'my favourite players are pant,rahul,yash,mahi.'\n",
    "print(re.findall(r\"\\b\\w{3,5}\\b\", text))"
   ]
  },
  {
   "cell_type": "code",
   "execution_count": 12,
   "id": "cba846da",
   "metadata": {},
   "outputs": [
    {
     "name": "stdout",
     "output_type": "stream",
     "text": [
      "example\n",
      "hr@fliprobo\n",
      "github\n",
      "Hello\n",
      "Data\n"
     ]
    }
   ],
   "source": [
    "#question 5\n",
    "import re\n",
    "items = [\"example (.com)\", \"hr@fliprobo (.com)\", \"github (.com)\", \"Hello (Data Science World)\", \"Data (Scientist)\"]\n",
    "for item in items:\n",
    "    print(re.sub(r\" ?\\([^)]+\\)\", \"\", item))"
   ]
  },
  {
   "cell_type": "code",
   "execution_count": 13,
   "id": "41337e64",
   "metadata": {},
   "outputs": [
    {
     "name": "stdout",
     "output_type": "stream",
     "text": [
      "example\n",
      "hr@fliprobo\n",
      "github\n",
      "Hello\n",
      "Data\n"
     ]
    }
   ],
   "source": [
    "#quetion 6\n",
    "\n",
    "import re\n",
    "items = [\"example (.com)\", \"hr@fliprobo (.com)\", \"github (.com)\", \"Hello (Data Science World)\", \"Data (Scientist)\"]\n",
    "for item in items:\n",
    "    print(re.sub(r\" ?\\([^)]+\\)\", \"\", item))"
   ]
  },
  {
   "cell_type": "code",
   "execution_count": 14,
   "id": "7d31205c",
   "metadata": {},
   "outputs": [
    {
     "name": "stdout",
     "output_type": "stream",
     "text": [
      "['Importance', 'Of', 'Regular', 'Expressions', 'In', 'Python']\n"
     ]
    }
   ],
   "source": [
    "#quetion 7\n",
    "\n",
    "import re\n",
    "text = \"ImportanceOfRegularExpressionsInPython\"\n",
    "print(re.findall('[A-Z][^A-Z]*', text))"
   ]
  },
  {
   "cell_type": "code",
   "execution_count": 15,
   "id": "80fe2aaa",
   "metadata": {},
   "outputs": [
    {
     "name": "stdout",
     "output_type": "stream",
     "text": [
      "The original string is : RegularExpression1IsAn2ImportantTopic3InPython\n",
      "The space added string :  RegularExpression 1 IsAn 2 ImportantTopic 3 InPython \n"
     ]
    }
   ],
   "source": [
    "#quetion 8\n",
    "\n",
    "   \n",
    "import re\n",
    " \n",
    "# initializing string\n",
    "test_str = 'RegularExpression1IsAn2ImportantTopic3InPython'\n",
    " \n",
    "# printing original String\n",
    "print(\"The original string is : \" + str(test_str))\n",
    " \n",
    "# using sub() to solve the problem, lambda used to add spaces \n",
    "res = re.sub(\"[A-Za-z]+\", lambda ele: \" \" + ele[0] + \" \", test_str)\n",
    " \n",
    "# printing result \n",
    "print(\"The space added string : \" + str(res)) \n",
    "\n"
   ]
  },
  {
   "cell_type": "code",
   "execution_count": 17,
   "id": "2c3bfa46",
   "metadata": {},
   "outputs": [
    {
     "name": "stdout",
     "output_type": "stream",
     "text": [
      "Regular Expression1 Is An2 Important Topic3 In Python\n"
     ]
    }
   ],
   "source": [
    "#quetion 9\n",
    "import re\n",
    "def capital_words_spaces(str1):\n",
    "    return re.sub(r\"(\\w)([A-Z])\", r\"\\1 \\2\", str1)\n",
    "\n",
    "\n",
    "print(capital_words_spaces(\"RegularExpression1IsAn2ImportantTopic3InPython\"))"
   ]
  },
  {
   "cell_type": "code",
   "execution_count": 18,
   "id": "a0743f2d",
   "metadata": {},
   "outputs": [
    {
     "name": "stdout",
     "output_type": "stream",
     "text": [
      "Not matched!\n",
      "Found a match!\n"
     ]
    }
   ],
   "source": [
    "#quetion 10\n",
    "\n",
    "import re\n",
    "def text_match(text):\n",
    "        patterns = '^[a-zA-Z0-9_]*$'\n",
    "        if re.search(patterns,  text):\n",
    "                return 'Found a match!'\n",
    "        else:\n",
    "                return('Not matched!')\n",
    "\n",
    "print(text_match(\"The quick brown fox jumps over the lazy dog.\"))\n",
    "print(text_match(\"Python_Exercises_1\"))\n",
    "\n"
   ]
  },
  {
   "cell_type": "code",
   "execution_count": 19,
   "id": "cd69bd3c",
   "metadata": {},
   "outputs": [
    {
     "name": "stdout",
     "output_type": "stream",
     "text": [
      "True\n",
      "False\n"
     ]
    }
   ],
   "source": [
    "#quetion 11\n",
    "import re\n",
    "def match_num(string):\n",
    "    text = re.compile(r\"^5\")\n",
    "    if text.match(string):\n",
    "        return True\n",
    "    else:\n",
    "        return False\n",
    "print(match_num('5-2345861'))\n",
    "print(match_num('6-2345861'))"
   ]
  },
  {
   "cell_type": "code",
   "execution_count": 20,
   "id": "f449613f",
   "metadata": {},
   "outputs": [
    {
     "name": "stdout",
     "output_type": "stream",
     "text": [
      "216.8.94.196\n"
     ]
    }
   ],
   "source": [
    "#quetion 13\n",
    "import re\n",
    "ip = \"216.08.094.196\"\n",
    "string = re.sub('\\.[0]*', '.', ip)\n",
    "print(string)"
   ]
  },
  {
   "cell_type": "code",
   "execution_count": 24,
   "id": "5ce15113",
   "metadata": {},
   "outputs": [
    {
     "name": "stdout",
     "output_type": "stream",
     "text": [
      "['August']\n"
     ]
    }
   ],
   "source": [
    "#quetion 14\n",
    "import re\n",
    "\n",
    "text = \"On August 15th 1947 that India was declared independent from British colonialism, and the reins of control were handed over to the leaders of the Country.\"\n",
    "\n",
    "pattern = r\"\\b([A-Z][a-z]+) \\d{1,2}(?:st|nd|rd|th)? \\d{4}\\b\"\n",
    "\n",
    "matches = re.findall(pattern, text)\n",
    "print(matches)"
   ]
  },
  {
   "cell_type": "code",
   "execution_count": 27,
   "id": "bbf07a3f",
   "metadata": {},
   "outputs": [
    {
     "name": "stdout",
     "output_type": "stream",
     "text": [
      " the word \"fox\" in \"The quick brown fox jumps over the lazy dog.\" ->\n",
      "Matched!\n",
      " the word \"dog\" in \"The quick brown fox jumps over the lazy dog.\" ->\n",
      "Matched!\n",
      " the word \"horse\" in \"The quick brown fox jumps over the lazy dog.\" ->\n",
      "Not Matched!\n"
     ]
    }
   ],
   "source": [
    "#quetion 15\n",
    "import re\n",
    "patterns = [ 'fox', 'dog', 'horse' ]\n",
    "text = 'The quick brown fox jumps over the lazy dog.'\n",
    "for pattern in patterns:\n",
    "    print(' the word \"%s\" in \"%s\" ->' % (pattern, text),)\n",
    "    if re.search(pattern,  text):\n",
    "        print('Matched!')\n",
    "    else:\n",
    "        print('Not Matched!')"
   ]
  },
  {
   "cell_type": "code",
   "execution_count": 28,
   "id": "e6664715",
   "metadata": {},
   "outputs": [
    {
     "name": "stdout",
     "output_type": "stream",
     "text": [
      "Found \"fox\" in \"The quick brown fox jumps over the lazy dog.\" from 16 to 19 \n"
     ]
    }
   ],
   "source": [
    "#quetion 16\n",
    "\n",
    "import re\n",
    "pattern = 'fox'\n",
    "text = 'The quick brown fox jumps over the lazy dog.'\n",
    "match = re.search(pattern, text)\n",
    "s = match.start()\n",
    "e = match.end()\n",
    "print('Found \"%s\" in \"%s\" from %d to %d ' % \\\n",
    "    (match.re.pattern, match.string, s, e))\n"
   ]
  },
  {
   "cell_type": "code",
   "execution_count": 29,
   "id": "dc2dd465",
   "metadata": {},
   "outputs": [
    {
     "name": "stdout",
     "output_type": "stream",
     "text": [
      "Found \"exercises\"\n",
      "Found \"exercises\"\n",
      "Found \"exercises\"\n"
     ]
    }
   ],
   "source": [
    "#quetion 17\n",
    "\n",
    "import re\n",
    "text = 'Python exercises, PHP exercises, C# exercises'\n",
    "pattern = 'exercises'\n",
    "for match in re.findall(pattern, text):\n",
    "    print('Found \"%s\"' % match)\n"
   ]
  },
  {
   "cell_type": "code",
   "execution_count": 30,
   "id": "965164e2",
   "metadata": {},
   "outputs": [
    {
     "name": "stdout",
     "output_type": "stream",
     "text": [
      "Found \"exercises\" at 7:16\n",
      "Found \"exercises\" at 22:31\n",
      "Found \"exercises\" at 36:45\n"
     ]
    }
   ],
   "source": [
    "#quetion 18\n",
    "import re\n",
    "text = 'Python exercises, PHP exercises, C# exercises'\n",
    "pattern = 'exercises'\n",
    "for match in re.finditer(pattern, text):\n",
    "    s = match.start()\n",
    "    e = match.end()\n",
    "    print('Found \"%s\" at %d:%d' % (text[s:e], s, e))"
   ]
  },
  {
   "cell_type": "code",
   "execution_count": 31,
   "id": "1dbb177b",
   "metadata": {},
   "outputs": [
    {
     "name": "stdout",
     "output_type": "stream",
     "text": [
      "Original date in YYY-MM-DD Format:  2026-01-02\n",
      "New date in DD-MM-YYYY Format:  02-01-2026\n"
     ]
    }
   ],
   "source": [
    "#question 19\n",
    "import re\n",
    "def change_date_format(dt):\n",
    "        return re.sub(r'(\\d{4})-(\\d{1,2})-(\\d{1,2})', '\\\\3-\\\\2-\\\\1', dt)\n",
    "dt1 = \"2026-01-02\"\n",
    "print(\"Original date in YYY-MM-DD Format: \",dt1)\n",
    "print(\"New date in DD-MM-YYYY Format: \",change_date_format(dt1))"
   ]
  },
  {
   "cell_type": "code",
   "execution_count": 32,
   "id": "694356c9",
   "metadata": {},
   "outputs": [
    {
     "name": "stdout",
     "output_type": "stream",
     "text": [
      "True\n",
      "True\n",
      "True\n",
      "True\n",
      "False\n",
      "False\n",
      "False\n"
     ]
    }
   ],
   "source": [
    "#question 20\n",
    "def is_decimal(num):\n",
    "    import re\n",
    "    dnumre = re.compile(r\"\"\"^[0-9]+(\\.[0-9]{1,2})?$\"\"\")\n",
    "    result = dnumre.search(num)\n",
    "    return bool(result)\n",
    "\n",
    "print(is_decimal('123.11'))\n",
    "print(is_decimal('123.1'))\n",
    "print(is_decimal('123'))\n",
    "print(is_decimal('0.21'))\n",
    "\n",
    "print(is_decimal('123.1214'))\n",
    "print(is_decimal('3.124587'))\n",
    "print(is_decimal('e666.86'))"
   ]
  },
  {
   "cell_type": "code",
   "execution_count": null,
   "id": "fea80a5f",
   "metadata": {},
   "outputs": [],
   "source": []
  }
 ],
 "metadata": {
  "kernelspec": {
   "display_name": "Python 3 (ipykernel)",
   "language": "python",
   "name": "python3"
  },
  "language_info": {
   "codemirror_mode": {
    "name": "ipython",
    "version": 3
   },
   "file_extension": ".py",
   "mimetype": "text/x-python",
   "name": "python",
   "nbconvert_exporter": "python",
   "pygments_lexer": "ipython3",
   "version": "3.11.4"
  }
 },
 "nbformat": 4,
 "nbformat_minor": 5
}
